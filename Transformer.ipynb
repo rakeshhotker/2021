{
  "nbformat": 4,
  "nbformat_minor": 0,
  "metadata": {
    "colab": {
      "provenance": [],
      "authorship_tag": "ABX9TyN1wnCS18J6ROGYlsNI3f3n",
      "include_colab_link": true
    },
    "kernelspec": {
      "name": "python3",
      "display_name": "Python 3"
    },
    "language_info": {
      "name": "python"
    },
    "accelerator": "GPU",
    "gpuClass": "standard"
  },
  "cells": [
    {
      "cell_type": "markdown",
      "metadata": {
        "id": "view-in-github",
        "colab_type": "text"
      },
      "source": [
        "<a href=\"https://colab.research.google.com/github/rakeshhotker/2021/blob/main/Transformer.ipynb\" target=\"_parent\"><img src=\"https://colab.research.google.com/assets/colab-badge.svg\" alt=\"Open In Colab\"/></a>"
      ]
    },
    {
      "cell_type": "code",
      "execution_count": 39,
      "metadata": {
        "id": "Tz1lMEg5w1SW"
      },
      "outputs": [],
      "source": [
        "import torch\n"
      ]
    },
    {
      "cell_type": "code",
      "source": [
        "import torch.nn as nn\n",
        "class SelfAttention(nn.Module):\n",
        "    def __init__(self,embed_size,heads):\n",
        "      super(SelfAttention,self).__init__()\n",
        "      self.embed_size=embed_size\n",
        "      self.heads=heads\n",
        "      self.head_dim=embed_size // heads\n",
        "\n",
        "      assert(self.head_dim*heads==embed_size), \"Embed size needs to be divisible by heads\"\n",
        "      self.values=nn.Linear(self.head_dim,self.head_dim,bias=False)\n",
        "      self.keys=nn.Linear(self.head_dim,self.head_dim,bias=False)\n",
        "      self.queries=nn.Linear(self.head_dim,self.head_dim,bias=False)\n",
        "      self.fc_out=nn.Linear(heads*self.head_dim,embed_size)\n",
        "\n",
        "    def forward(self,values,keys,query,mask):\n",
        "      N=query.shape[0]\n",
        "      value_len,key_len,query_len=values.shape[1],keys.shape[1],query.shape[1]\n",
        "      #Split embedding into self.heads pieces\n",
        "      values=values.reshape(N,value_len,self.heads,self.head_dim)\n",
        "      keys=keys.reshape(N,key_len,self.heads,self.head_dim)\n",
        "      queries=query.reshape(N,query_len,self.heads,self.head_dim)\n",
        "\n",
        "      values=self.values(values)\n",
        "      keys=self.keys(keys)\n",
        "      queries=self.queries(queries)\n",
        "      energy=torch.einsum(\"nqhd,nkhd->nhqk\",[queries,keys])\n",
        "      #queries shape:(N,query_len,heads,heads_dim)\n",
        "      #keys shape:(N,key_len,heads,heads_dim)\n",
        "      #energy shape:(N,heads,query_len,key_len)\n",
        "\n",
        "      if mask is not None:\n",
        "        energy=energy.masked_fill(mask==0,float(\"-1e20\"))\n",
        "      \n",
        "      attention=torch.softmax(energy/(self.embed_size**(1/2)),dim=3)\n",
        "\n",
        "      out=torch.einsum(\"nhql,nlhd->nqhd\",[attention,values]).reshape(\n",
        "          N,query_len,self.heads*self.head_dim\n",
        "      )\n",
        "      #attention shape:(N,heads,query_len,key_len)\n",
        "      #values shape:(N,value_len,heads,heads_dim)\n",
        "      #after einsum (N,query_len,heads,head_dim) then flatten last two dimensions\n",
        "\n",
        "      out=self.fc_out(out)\n",
        "      return out\n",
        "\n",
        "class TransformerBlock(nn.Module):\n",
        "  def __init__(self,embed_size,heads,dropout,forward_expansion):\n",
        "    super(TransformerBlock,self).__init__()\n",
        "    self.attention=SelfAttention(embed_size,heads)\n",
        "    self.norm1=nn.LayerNorm(embed_size)\n",
        "    self.norm2=nn.LayerNorm(embed_size)\n",
        "    self.feed_forward=nn.Sequential(\n",
        "        nn.Linear(embed_size,forward_expansion*embed_size),\n",
        "        nn.ReLU(),\n",
        "        nn.Linear(forward_expansion*embed_size,embed_size)\n",
        "    )\n",
        "    self.dropout=nn.Dropout(dropout)\n",
        "  \n",
        "  def forward(self,value,key,query,mask):\n",
        "    attention=self.attention(value,key,query,mask)\n",
        "    x=self.dropout(self.norm1(attention+query))\n",
        "    forward=self.feed_forward(x)\n",
        "    out=self.dropout(self.norm2(forward+x))\n",
        "    return out\n",
        "\n",
        "\n",
        "      "
      ],
      "metadata": {
        "id": "1v_2kGDmw9Ni"
      },
      "execution_count": 40,
      "outputs": []
    },
    {
      "cell_type": "code",
      "source": [
        "from IPython.terminal.embed import embed\n",
        "class Encoder(nn.Module):\n",
        "  def __init__(\n",
        "      self,\n",
        "      src_vocab_size,\n",
        "      embed_size,\n",
        "      num_layers,\n",
        "      heads,\n",
        "      device,\n",
        "      forward_expansion,\n",
        "      dropout,\n",
        "      max_length,\n",
        "  ):\n",
        "    super(Encoder,self).__init__()\n",
        "    self.embed_size=embed_size\n",
        "    self.device=device\n",
        "    self.word_embedding=nn.Embedding(src_vocab_size,embed_size)\n",
        "    self.position_embedding=nn.Embedding(max_length,embed_size)\n",
        "\n",
        "    self.layers=nn.ModuleList(\n",
        "        [\n",
        "            TransformerBlock(\n",
        "                embed_size,\n",
        "                heads,\n",
        "                dropout=dropout,\n",
        "                forward_expansion=forward_expansion,\n",
        "            )\n",
        "            for _ in range(num_layers)\n",
        "        ]\n",
        "    )\n",
        "    self.dropout=nn.Dropout(dropout)\n",
        "\n",
        "  def forward(self,x,mask):\n",
        "      N,seq_length=x.shape\n",
        "      positions=torch.arange(0,seq_length).expand(N,seq_length).to(self.device)\n",
        "      out=self.dropout(self.word_embedding(x)+self.position_embedding(positions))\n",
        "      for layer in self.layers:\n",
        "        out=layer(out,out,out,mask)\n",
        "      return out\n",
        "\n"
      ],
      "metadata": {
        "id": "Vj2r8WOc32_K"
      },
      "execution_count": 41,
      "outputs": []
    },
    {
      "cell_type": "code",
      "source": [
        "class DecoderBlock(nn.Module):\n",
        "  def __init__(self,embed_size,heads,forward_expansion,dropout,device):\n",
        "    super(DecoderBlock,self).__init__()\n",
        "    self.attention=SelfAttention(embed_size,heads)\n",
        "    self.norm=nn.LayerNorm(embed_size)\n",
        "    self.transformer_block=TransformerBlock(\n",
        "        embed_size,heads,dropout,forward_expansion\n",
        "    )\n",
        "    self.dropout=nn.Dropout(dropout)\n",
        "  def forward(self,x,value,key,src_mask,trg_mask):\n",
        "    attention=self.attention(x,x,x,trg_mask)\n",
        "    query=self.dropout(self.norm(attention+x))\n",
        "    out=self.transformer_block(value,key,query,src_mask)\n",
        "    return out\n",
        "\n"
      ],
      "metadata": {
        "id": "dvIvKhAo5tF-"
      },
      "execution_count": 42,
      "outputs": []
    },
    {
      "cell_type": "code",
      "source": [
        "class Decoder(nn.Module):\n",
        "  def __init__(self,\n",
        "               trg_vocab_size,\n",
        "               embed_size,\n",
        "               num_layers,\n",
        "               heads,\n",
        "               forward_expansion,\n",
        "               dropout,\n",
        "               device,\n",
        "               max_length,\n",
        "               ):\n",
        "                super(Decoder,self).__init__()\n",
        "                self.device=device\n",
        "                self.word_embedding=nn.Embedding(trg_vocab_size,embed_size)\n",
        "                self.position_embedding=nn.Embedding(max_length,embed_size)\n",
        "                self.layers=nn.ModuleList(\n",
        "                    [DecoderBlock(embed_size,heads,forward_expansion,dropout,device) for _ in range(num_layers)]\n",
        "                )\n",
        "                self.fc_out=nn.Linear(embed_size,trg_vocab_size)\n",
        "                self.dropout=nn.Dropout(dropout)\n",
        "  def forward(self,x,enc_out,src_mask,trg_mask):\n",
        "    N,seq_length=x.shape\n",
        "    positions=torch.arange(0,seq_length).expand(N,seq_length).to(self.device)\n",
        "    x=self.dropout((self.word_embedding(x)+self.position_embedding(positions)))\n",
        "\n",
        "    for layer in self.layers:\n",
        "      x=layer(x,enc_out,enc_out,src_mask,trg_mask)\n",
        "    out=self.fc_out(x)\n",
        "    return out\n"
      ],
      "metadata": {
        "id": "-JLlwhlk67rP"
      },
      "execution_count": 43,
      "outputs": []
    },
    {
      "cell_type": "code",
      "source": [
        "class Transformer(nn.Module):\n",
        "      def __init__(\n",
        "          self,\n",
        "          src_vocab_size,\n",
        "          trg_vocab_size,\n",
        "          src_pad_idx,\n",
        "          trg_pad_idx,\n",
        "          embed_size=256,\n",
        "          num_layers=6,\n",
        "          forward_expansion=4,\n",
        "          heads=8,\n",
        "          dropout=0,\n",
        "          device=\"cuda\",\n",
        "          max_length=100\n",
        "        ):\n",
        "        super(Transformer,self).__init__()\n",
        "        self.encoder=Encoder(\n",
        "            src_vocab_size,\n",
        "            embed_size,\n",
        "            num_layers,\n",
        "            heads,\n",
        "            device,\n",
        "            forward_expansion,\n",
        "            dropout,\n",
        "            max_length\n",
        "        )\n",
        "        self.decoder=Decoder(\n",
        "            trg_vocab_size,\n",
        "            embed_size,\n",
        "            num_layers,\n",
        "            heads,\n",
        "            forward_expansion,\n",
        "            dropout,\n",
        "            device,\n",
        "            max_length\n",
        "        )\n",
        "        self.src_pad_idx=src_pad_idx\n",
        "        self.trg_pad_idx=trg_pad_idx\n",
        "        self.device=device\n",
        "      def make_src_mask(self,src):\n",
        "        src_mask=(src!=self.src_pad_idx).unsqueeze(1).unsqueeze(2)\n",
        "        return src_mask.to(self.device)\n",
        "\n",
        "      def make_trg_mask(self,trg):\n",
        "        N,trg_len=trg.shape\n",
        "        trg_mask=torch.tril(torch.ones((trg_len,trg_len))).expand(\n",
        "            N,1,trg_len,trg_len\n",
        "        )\n",
        "        return trg_mask.to(self.device)\n",
        "      def forward(self,src,trg):\n",
        "        src_mask=self.make_src_mask(src)\n",
        "        trg_mask=self.make_trg_mask(trg)\n",
        "        enc_src=self.encoder(src,src_mask)\n",
        "        out=self.decoder(trg,enc_src,src_mask,trg_mask)\n",
        "        return out\n"
      ],
      "metadata": {
        "id": "uIdf7UCm8no0"
      },
      "execution_count": 44,
      "outputs": []
    },
    {
      "cell_type": "code",
      "source": [
        "if __name__==\"__main__\":\n",
        "  device=torch.device(\"cuda\" if torch.cuda.is_available() else \"cpu\")\n",
        "  x=torch.tensor([[1,5,6,4,3,9,5,2,0],[1,8,7,3,4,5,6,7,2]]).to(\n",
        "      device\n",
        "  )\n",
        "  trg=torch.tensor([[1,7,4,3,5,9,2,0],[1,5,6,2,4,7,6,2]]).to(device)\n",
        "  src_pad_idx=0\n",
        "  trg_pad_idx=0\n",
        "  src_vocab_size=10\n",
        "  trg_vocab_size=10\n",
        "  model=Transformer(src_vocab_size,trg_vocab_size,src_pad_idx,trg_pad_idx).to(\n",
        "      device\n",
        "  )\n",
        "  out=model(x,trg[:,:-1])\n",
        "  print(out.shape)"
      ],
      "metadata": {
        "colab": {
          "base_uri": "https://localhost:8080/"
        },
        "id": "fsu6UcmzRFbO",
        "outputId": "9ad9d4df-577d-4f62-bf5d-1efdad7e6e0d"
      },
      "execution_count": 45,
      "outputs": [
        {
          "output_type": "stream",
          "name": "stdout",
          "text": [
            "torch.Size([2, 7, 10])\n"
          ]
        }
      ]
    }
  ]
}